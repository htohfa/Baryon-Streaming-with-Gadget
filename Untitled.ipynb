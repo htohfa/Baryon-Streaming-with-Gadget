{
 "cells": [
  {
   "cell_type": "code",
   "execution_count": 1,
   "id": "47a67e6d",
   "metadata": {},
   "outputs": [
    {
     "ename": "ImportError",
     "evalue": "dlopen(/Users/hurum/anaconda3/lib/python3.11/site-packages/fake_spectra/_spectra_priv.cpython-311-darwin.so, 0x0002): symbol not found in flat namespace '_gsl_interp2d_bicubic'",
     "output_type": "error",
     "traceback": [
      "\u001b[0;31m---------------------------------------------------------------------------\u001b[0m",
      "\u001b[0;31mImportError\u001b[0m                               Traceback (most recent call last)",
      "Cell \u001b[0;32mIn[1], line 1\u001b[0m\n\u001b[0;32m----> 1\u001b[0m \u001b[38;5;28;01mfrom\u001b[39;00m \u001b[38;5;21;01mfake_spectra\u001b[39;00m \u001b[38;5;28;01mimport\u001b[39;00m tempdens\n",
      "File \u001b[0;32m~/anaconda3/lib/python3.11/site-packages/fake_spectra/tempdens.py:12\u001b[0m\n\u001b[1;32m     10\u001b[0m \u001b[38;5;28;01mfrom\u001b[39;00m \u001b[38;5;21;01m.\u001b[39;00m \u001b[38;5;28;01mimport\u001b[39;00m unitsystem \u001b[38;5;28;01mas\u001b[39;00m units\n\u001b[1;32m     11\u001b[0m \u001b[38;5;28;01mfrom\u001b[39;00m \u001b[38;5;21;01m.\u001b[39;00m\u001b[38;5;21;01mgas_properties\u001b[39;00m \u001b[38;5;28;01mimport\u001b[39;00m GasProperties\n\u001b[0;32m---> 12\u001b[0m \u001b[38;5;28;01mfrom\u001b[39;00m \u001b[38;5;21;01m.\u001b[39;00m\u001b[38;5;21;01mratenetworkspectra\u001b[39;00m \u001b[38;5;28;01mimport\u001b[39;00m RateNetworkGas\n\u001b[1;32m     13\u001b[0m matplotlib\u001b[38;5;241m.\u001b[39muse(\u001b[38;5;124m\"\u001b[39m\u001b[38;5;124mPDF\u001b[39m\u001b[38;5;124m\"\u001b[39m)\n\u001b[1;32m     14\u001b[0m \u001b[38;5;28;01mimport\u001b[39;00m \u001b[38;5;21;01mmatplotlib\u001b[39;00m\u001b[38;5;21;01m.\u001b[39;00m\u001b[38;5;21;01mpyplot\u001b[39;00m \u001b[38;5;28;01mas\u001b[39;00m \u001b[38;5;21;01mplt\u001b[39;00m\n",
      "File \u001b[0;32m~/anaconda3/lib/python3.11/site-packages/fake_spectra/ratenetworkspectra.py:4\u001b[0m\n\u001b[1;32m      1\u001b[0m \u001b[38;5;124;03m\"\"\"Modified versions of gas properties and spectra that use the rate network.\"\"\"\u001b[39;00m\n\u001b[1;32m      3\u001b[0m \u001b[38;5;28;01mimport\u001b[39;00m \u001b[38;5;21;01mnumpy\u001b[39;00m \u001b[38;5;28;01mas\u001b[39;00m \u001b[38;5;21;01mnp\u001b[39;00m\n\u001b[0;32m----> 4\u001b[0m \u001b[38;5;28;01mfrom\u001b[39;00m \u001b[38;5;21;01m.\u001b[39;00m\u001b[38;5;21;01m_spectra_priv\u001b[39;00m \u001b[38;5;28;01mimport\u001b[39;00m _interpolate_2d\n\u001b[1;32m      5\u001b[0m \u001b[38;5;28;01mfrom\u001b[39;00m \u001b[38;5;21;01m.\u001b[39;00m \u001b[38;5;28;01mimport\u001b[39;00m gas_properties\n\u001b[1;32m      6\u001b[0m \u001b[38;5;28;01mfrom\u001b[39;00m \u001b[38;5;21;01m.\u001b[39;00m \u001b[38;5;28;01mimport\u001b[39;00m spectra\n",
      "\u001b[0;31mImportError\u001b[0m: dlopen(/Users/hurum/anaconda3/lib/python3.11/site-packages/fake_spectra/_spectra_priv.cpython-311-darwin.so, 0x0002): symbol not found in flat namespace '_gsl_interp2d_bicubic'"
     ]
    }
   ],
   "source": [
    "from fake_spectra import tempdens"
   ]
  },
  {
   "cell_type": "code",
   "execution_count": null,
   "id": "d845d355",
   "metadata": {},
   "outputs": [],
   "source": []
  }
 ],
 "metadata": {
  "kernelspec": {
   "display_name": "Python 3 (ipykernel)",
   "language": "python",
   "name": "python3"
  },
  "language_info": {
   "codemirror_mode": {
    "name": "ipython",
    "version": 3
   },
   "file_extension": ".py",
   "mimetype": "text/x-python",
   "name": "python",
   "nbconvert_exporter": "python",
   "pygments_lexer": "ipython3",
   "version": "3.11.5"
  }
 },
 "nbformat": 4,
 "nbformat_minor": 5
}
